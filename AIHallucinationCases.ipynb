{
 "cells": [
  {
   "cell_type": "code",
   "execution_count": 12,
   "id": "68c3ef69-0605-414d-9040-b3d6091662a2",
   "metadata": {},
   "outputs": [
    {
     "name": "stdout",
     "output_type": "stream",
     "text": [
      "🚀 Training Linear SVC...\n",
      "\n",
      "🎯 Linear SVC Accuracy: 70.97%\n"
     ]
    }
   ],
   "source": [
    "import pandas as pd\n",
    "import re\n",
    "from sklearn.model_selection import train_test_split\n",
    "from sklearn.preprocessing import LabelEncoder\n",
    "from sklearn.feature_extraction.text import TfidfVectorizer\n",
    "from sklearn.svm import LinearSVC\n",
    "from sklearn.pipeline import make_pipeline\n",
    "from sklearn.metrics import accuracy_score\n",
    "\n",
    "# ============================\n",
    "# 1️⃣ Load & Clean Data\n",
    "# ============================\n",
    "df = pd.read_csv(\"Charlotin-hallucination_cases(AutoRecovered).csv\")\n",
    "\n",
    "# Drop unnecessary columns\n",
    "df = df.drop(columns=[\"Pointer\", \"Source\", \"Details\"], errors=\"ignore\")\n",
    "\n",
    "# Drop missing outcomes\n",
    "df = df.dropna(subset=[\"Outcome\"])\n",
    "\n",
    "# Clean text\n",
    "def clean_text(text):\n",
    "    text = re.sub(r'[^a-zA-Z0-9\\s]', '', str(text))\n",
    "    text = re.sub(r'\\s+', ' ', text)\n",
    "    return text.strip().lower()\n",
    "\n",
    "# Combine text columns\n",
    "text_cols = [col for col in df.columns if df[col].dtype == \"object\" and col != \"Outcome\"]\n",
    "df[\"combined_text\"] = df[text_cols].fillna(\"\").agg(\" \".join, axis=1)\n",
    "df[\"combined_text\"] = df[\"combined_text\"].astype(str).apply(clean_text)\n",
    "\n",
    "# Remove rare classes (less than 2 examples)\n",
    "class_counts = df[\"Outcome\"].value_counts()\n",
    "rare_classes = class_counts[class_counts < 2].index\n",
    "df = df[~df[\"Outcome\"].isin(rare_classes)]\n",
    "\n",
    "# Encode labels\n",
    "le = LabelEncoder()\n",
    "y = le.fit_transform(df[\"Outcome\"])\n",
    "\n",
    "# Split dataset\n",
    "X_train, X_test, y_train, y_test = train_test_split(\n",
    "    df[\"combined_text\"], y, test_size=0.2, random_state=42, stratify=y\n",
    ")\n",
    "\n",
    "# ============================\n",
    "# 2️⃣ Linear SVC Model\n",
    "# ============================\n",
    "model = make_pipeline(\n",
    "    TfidfVectorizer(max_features=5000, ngram_range=(1, 2)),\n",
    "    LinearSVC(C=1.0, random_state=42)\n",
    ")\n",
    "\n",
    "# Train\n",
    "print(\"🚀 Training Linear SVC...\")\n",
    "model.fit(X_train, y_train)\n",
    "\n",
    "# Predict\n",
    "y_pred = model.predict(X_test)\n",
    "\n",
    "# Evaluate\n",
    "accuracy = accuracy_score(y_test, y_pred)\n",
    "print(f\"\\n🎯 Linear SVC Accuracy: {accuracy * 100:.2f}%\")\n",
    "\n"
   ]
  },
  {
   "cell_type": "code",
   "execution_count": null,
   "id": "030a575f-1196-4a55-a9ba-9a20349680eb",
   "metadata": {},
   "outputs": [],
   "source": []
  }
 ],
 "metadata": {
  "kernelspec": {
   "display_name": "Python 3 (ipykernel)",
   "language": "python",
   "name": "python3"
  },
  "language_info": {
   "codemirror_mode": {
    "name": "ipython",
    "version": 3
   },
   "file_extension": ".py",
   "mimetype": "text/x-python",
   "name": "python",
   "nbconvert_exporter": "python",
   "pygments_lexer": "ipython3",
   "version": "3.13.5"
  }
 },
 "nbformat": 4,
 "nbformat_minor": 5
}

{
 "cells": [
  {
   "cell_type": "code",
   "execution_count": 26,
   "id": "68c3ef69-0605-414d-9040-b3d6091662a2",
   "metadata": {},
   "outputs": [
    {
     "name": "stdout",
     "output_type": "stream",
     "text": [
      "🚀 Training Linear SVC model...\n",
      "\n",
      "✅ Model trained successfully!\n",
      "🎯 Linear SVC Accuracy: 70.97%\n",
      "\n"
     ]
    },
    {
     "name": "stdin",
     "output_type": "stream",
     "text": [
      "💬 Enter a new case description (or type 'exit' to quit):  hallucination fake evidence AI tool ChatGPT USA\n"
     ]
    },
    {
     "name": "stdout",
     "output_type": "stream",
     "text": [
      "🧠 Predicted Outcome: Case dismissed\n",
      "\n"
     ]
    },
    {
     "name": "stdin",
     "output_type": "stream",
     "text": [
      "💬 Enter a new case description (or type 'exit' to quit):  exit\n"
     ]
    },
    {
     "name": "stdout",
     "output_type": "stream",
     "text": [
      "👋 Exiting. Have a great day!\n"
     ]
    }
   ],
   "source": [
    "import pandas as pd\n",
    "import re\n",
    "from sklearn.model_selection import train_test_split\n",
    "from sklearn.preprocessing import LabelEncoder\n",
    "from sklearn.feature_extraction.text import TfidfVectorizer\n",
    "from sklearn.svm import LinearSVC\n",
    "from sklearn.pipeline import make_pipeline\n",
    "from sklearn.metrics import accuracy_score\n",
    "\n",
    "# ============================\n",
    "# 1️⃣ Load & Clean Data\n",
    "# ============================\n",
    "df = pd.read_csv(\"Charlotin-hallucination_cases(AutoRecovered).csv\")\n",
    "\n",
    "# Drop unnecessary columns if present\n",
    "df = df.drop(columns=[\"Pointer\", \"Source\", \"Details\"], errors=\"ignore\")\n",
    "\n",
    "# Drop rows without outcomes\n",
    "df = df.dropna(subset=[\"Outcome\"])\n",
    "\n",
    "# Clean text function\n",
    "def clean_text(text):\n",
    "    text = re.sub(r'[^a-zA-Z0-9\\s]', '', str(text))\n",
    "    text = re.sub(r'\\s+', ' ', text)\n",
    "    return text.strip().lower()\n",
    "\n",
    "# Combine all text columns into one\n",
    "text_cols = [col for col in df.columns if df[col].dtype == \"object\" and col != \"Outcome\"]\n",
    "df[\"combined_text\"] = df[text_cols].fillna(\"\").agg(\" \".join, axis=1)\n",
    "df[\"combined_text\"] = df[\"combined_text\"].astype(str).apply(clean_text)\n",
    "\n",
    "# Remove rare classes (less than 2 samples)\n",
    "class_counts = df[\"Outcome\"].value_counts()\n",
    "rare_classes = class_counts[class_counts < 2].index\n",
    "df = df[~df[\"Outcome\"].isin(rare_classes)]\n",
    "\n",
    "# Encode labels\n",
    "le = LabelEncoder()\n",
    "y = le.fit_transform(df[\"Outcome\"])\n",
    "\n",
    "# Split dataset\n",
    "X_train, X_test, y_train, y_test = train_test_split(\n",
    "    df[\"combined_text\"], y, test_size=0.2, random_state=42, stratify=y\n",
    ")\n",
    "\n",
    "# ============================\n",
    "# 2️⃣ Linear SVC Model\n",
    "# ============================\n",
    "model = make_pipeline(\n",
    "    TfidfVectorizer(max_features=5000, ngram_range=(1, 2)),\n",
    "    LinearSVC(C=1.0, class_weight=\"balanced\", random_state=42)\n",
    ")\n",
    "\n",
    "# Train the model\n",
    "print(\"🚀 Training Linear SVC model...\")\n",
    "model.fit(X_train, y_train)\n",
    "\n",
    "# Predict on test set\n",
    "y_pred = model.predict(X_test)\n",
    "\n",
    "# Evaluate\n",
    "accuracy = accuracy_score(y_test, y_pred)\n",
    "print(f\"\\n✅ Model trained successfully!\")\n",
    "print(f\"🎯 Linear SVC Accuracy: {accuracy * 100:.2f}%\\n\")\n",
    "\n",
    "# ============================\n",
    "# 3️⃣ User Input Prediction\n",
    "# ============================\n",
    "while True:\n",
    "    user_input = input(\"💬 Enter a new case description (or type 'exit' to quit): \").strip()\n",
    "    if user_input.lower() == \"exit\":\n",
    "        print(\"👋 Exiting. Have a great day!\")\n",
    "        break\n",
    "\n",
    "    # Clean user input\n",
    "    cleaned = clean_text(user_input)\n",
    "\n",
    "    # Predict\n",
    "    prediction = model.predict([cleaned])[0]\n",
    "    predicted_label = le.inverse_transform([prediction])[0]\n",
    "\n",
    "    print(f\"🧠 Predicted Outcome: {predicted_label}\\n\")\n"
   ]
  },
  {
   "cell_type": "code",
   "execution_count": null,
   "id": "030a575f-1196-4a55-a9ba-9a20349680eb",
   "metadata": {},
   "outputs": [],
   "source": []
  },
  {
   "cell_type": "code",
   "execution_count": null,
   "id": "dee591c1-b8e1-4f5f-9e9e-dbc21022dd57",
   "metadata": {},
   "outputs": [],
   "source": []
  },
  {
   "cell_type": "code",
   "execution_count": null,
   "id": "1f0d718c-4ca0-488c-8b8c-b7c1e658718e",
   "metadata": {},
   "outputs": [],
   "source": []
  }
 ],
 "metadata": {
  "kernelspec": {
   "display_name": "Python 3 (ipykernel)",
   "language": "python",
   "name": "python3"
  },
  "language_info": {
   "codemirror_mode": {
    "name": "ipython",
    "version": 3
   },
   "file_extension": ".py",
   "mimetype": "text/x-python",
   "name": "python",
   "nbconvert_exporter": "python",
   "pygments_lexer": "ipython3",
   "version": "3.13.5"
  }
 },
 "nbformat": 4,
 "nbformat_minor": 5
}

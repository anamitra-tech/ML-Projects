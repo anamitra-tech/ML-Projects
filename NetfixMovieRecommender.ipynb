{
 "cells": [
  {
   "cell_type": "code",
   "execution_count": 23,
   "id": "067c5b04-0b27-4acc-a8c0-bc631d449ae0",
   "metadata": {},
   "outputs": [
    {
     "name": "stdout",
     "output_type": "stream",
     "text": [
      "🎯 Netflix Recommendation Classifier Accuracy: 0.9712\n"
     ]
    }
   ],
   "source": [
    "import numpy as np\n",
    "import pandas as pd\n",
    "from sklearn.model_selection import train_test_split\n",
    "from sklearn.preprocessing import StandardScaler\n",
    "from sklearn.ensemble import RandomForestClassifier\n",
    "from sklearn.metrics import accuracy_score\n",
    "\n",
    "df = pd.read_csv(\"netflix_titles.csv\")\n",
    "\n",
    "\n",
    "df = df.dropna(subset=[\"type\", \"listed_in\", \"country\", \"duration\"])\n",
    "\n",
    "df[\"recommended\"] = df[\"listed_in\"].apply(\n",
    "    lambda x: 1 if (\"Drama\" in x or \"Thriller\" in x) else 0\n",
    ")\n",
    "\n",
    "X = df[[\"type\", \"country\", \"release_year\", \"duration\", \"listed_in\"]]\n",
    "y = df[\"recommended\"]\n",
    "\n",
    "X = pd.get_dummies(X, drop_first=True)\n",
    "\n",
    "X_train, X_test, y_train, y_test = train_test_split(\n",
    "    X, y, test_size=0.2, random_state=42\n",
    ")\n",
    "\n",
    "scaler = StandardScaler()\n",
    "X_train_scaled = scaler.fit_transform(X_train)\n",
    "X_test_scaled = scaler.transform(X_test)\n",
    "\n",
    "n_models = 10\n",
    "n_samples = len(X_train_scaled)\n",
    "models = []\n",
    "probabilities = []\n",
    "\n",
    "for i in range(n_models):\n",
    "    # Bootstrap sampling\n",
    "    indices = np.random.choice(n_samples, size=n_samples, replace=True)\n",
    "    Xb = X_train_scaled[indices]\n",
    "    yb = y_train.iloc[indices]\n",
    "\n",
    "    # Train Decision Tree\n",
    "    model = RandomForestClassifier(n_estimators=20, max_depth=200, random_state=42)\n",
    "    model.fit(Xb, yb)\n",
    "    models.append(model)\n",
    "\n",
    "for model in models:\n",
    "    y_proba = model.predict_proba(X_test_scaled)\n",
    "    probabilities.append(y_proba)\n",
    "\n",
    "avg_proba = np.mean(probabilities, axis=0)\n",
    "ensemble_pred = np.argmax(avg_proba, axis=1)\n",
    "\n",
    "# Accuracy\n",
    "acc = accuracy_score(y_test, ensemble_pred)\n",
    "print(f\"🎯 Netflix Recommendation Classifier Accuracy: {acc:.4f}\")\n",
    "\n",
    "def recommend_show(genre, country, year):\n",
    "    sample = pd.DataFrame({\n",
    "        \"type\": [\"Movie\"],\n",
    "        \"country\": [country],\n",
    "        \"release_year\": [year],\n",
    "        \"duration\": [\"90 min\"],\n",
    "        \"listed_in\": [genre]\n",
    "    })"
   ]
  },
  {
   "cell_type": "code",
   "execution_count": null,
   "id": "ab02a15e-f8ec-432a-89a9-efa2764a14e5",
   "metadata": {},
   "outputs": [],
   "source": []
  }
 ],
 "metadata": {
  "kernelspec": {
   "display_name": "Python 3 (ipykernel)",
   "language": "python",
   "name": "python3"
  },
  "language_info": {
   "codemirror_mode": {
    "name": "ipython",
    "version": 3
   },
   "file_extension": ".py",
   "mimetype": "text/x-python",
   "name": "python",
   "nbconvert_exporter": "python",
   "pygments_lexer": "ipython3",
   "version": "3.13.5"
  }
 },
 "nbformat": 4,
 "nbformat_minor": 5
}
